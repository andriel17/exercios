{
 "cells": [
  {
   "cell_type": "code",
   "execution_count": null,
   "id": "4f4ee5ce-61d2-43b8-b387-96b140245552",
   "metadata": {},
   "outputs": [
    {
     "name": "stdout",
     "output_type": "stream",
     "text": [
      "Esses são todos os produtos dentro da lista de produtos da loja:\n",
      "\n",
      "- Maçã, Banana, Laranja, Uva, Pêra\n",
      "\n"
     ]
    },
    {
     "name": "stdin",
     "output_type": "stream",
     "text": [
      "Qual produto você deseja pesquisar? banana\n"
     ]
    },
    {
     "name": "stdout",
     "output_type": "stream",
     "text": [
      "Foi pesquisado: \"banana\"\n",
      "Esse produto nós não temos :(\n",
      "Esses são todos os produtos dentro da lista de produtos da loja:\n",
      "\n",
      "- Maçã, Banana, Laranja, Uva, Pêra\n",
      "\n"
     ]
    }
   ],
   "source": [
    "'''\n",
    "Exercício: Escreva um programa em Python que permita ao usuário pesquisar se\n",
    "um produto está disponível em uma lista de produtos da loja. Se o produto foi \n",
    "encontrado deve mostrar o preço.\n",
    "'''\n",
    "\n",
    "produtos = {'Maçã': '$1,00',\n",
    "            'Banana': '$0.50',\n",
    "            'Laranja': '$0.75',\n",
    "            'Uva': '$2.00',\n",
    "            'Pêra': '$1.50',\n",
    "            }\n",
    "\n",
    "def printandoProdutos() :\n",
    "\n",
    "    print('Esses são todos os produtos dentro da lista de produtos da loja:\\n')\n",
    "    nomesProdutos = \", \".join(produtos.keys())\n",
    "    print(f'- {nomesProdutos}\\n')\n",
    "\n",
    "def procurandoProdutos() :\n",
    "    produtoEscolhido = input('Qual produto você deseja pesquisar?')\n",
    "    produtoEncontrado = produtos.get(produtoEscolhido)\n",
    "\n",
    "    if produtoEncontrado :\n",
    "        print(f'Foi pesquisado: \\\"{produtoEscolhido}\\\"')\n",
    "        print(f'Temos sim o produto {produtoEscolhido}, ele custa {produtoEncontrado}\\n')\n",
    "        procurandoProdutos()\n",
    "    elif produtoEscolhido == 'Finish' :\n",
    "        print('Busca finalizada')\n",
    "    else :\n",
    "        print(f'Foi pesquisado: \\\"{produtoEscolhido}\\\"')\n",
    "        print('Esse produto nós não temos :(')\n",
    "        printandoProdutos()\n",
    "        procurandoProdutos()\n",
    "\n",
    "printandoProdutos()\n",
    "procurandoProdutos()"
   ]
  }
 ],
 "metadata": {
  "kernelspec": {
   "display_name": "Python 3 (ipykernel)",
   "language": "python",
   "name": "python3"
  },
  "language_info": {
   "codemirror_mode": {
    "name": "ipython",
    "version": 3
   },
   "file_extension": ".py",
   "mimetype": "text/x-python",
   "name": "python",
   "nbconvert_exporter": "python",
   "pygments_lexer": "ipython3",
   "version": "3.11.2"
  }
 },
 "nbformat": 4,
 "nbformat_minor": 5
}
