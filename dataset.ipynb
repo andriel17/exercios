{
 "cells": [
  {
   "cell_type": "code",
   "execution_count": 2,
   "id": "0f94fb52-1c39-4f07-9c6a-1438cb9e96f2",
   "metadata": {},
   "outputs": [
    {
     "name": "stdout",
     "output_type": "stream",
     "text": [
      "O carro mais barato em 2023 é: R$ 1985.0\n",
      "O carro mais caro de 2023 é: R$ 8600000.0\n",
      "Carros que custam entre 5.000 e 7.000 reais em 2023:\n",
      "                  brand                          model  avg_price_brl\n",
      "575733             Baby               Buggy 1.6 2-Lug.         5116.0\n",
      "575762             Baby  Buggy 1.6/ TST/ RS 1.6 4-Lug.         6071.0\n",
      "575763             Baby  Buggy 1.6/ TST/ RS 1.6 4-Lug.         5369.0\n",
      "575764             Baby  Buggy 1.6/ TST/ RS 1.6 4-Lug.         5197.0\n",
      "576653              BRM         Buggy/M-8/M-8 Long 1.6         6767.0\n",
      "...                 ...                            ...            ...\n",
      "596810  VW - VolksWagen   Gol Furgão 1.6 Mi/ 1.6i/ 1.6         5655.0\n",
      "598462            Volvo         460 GLT 2.0/ Turbo 1.8         6927.0\n",
      "598463            Volvo         460 GLT 2.0/ Turbo 1.8         6648.0\n",
      "598553            Volvo                  440 Turbo 1.8         6435.0\n",
      "598554            Volvo                  440 Turbo 1.8         6257.0\n",
      "\n",
      "[456 rows x 3 columns]\n"
     ]
    }
   ],
   "source": [
    "import pandas as pd\n",
    "\n",
    "dataframe = pd.read_csv(\"fipe_cars.csv\")\n",
    "dataframe_2023 = dataframe[dataframe[\"year_of_reference\"] == 2023]\n",
    "\n",
    "def minimo_e_maximo_preco_2023() :\n",
    "    custo_minimo = dataframe_2023[\"avg_price_brl\"].min()\n",
    "    custo_maximo = dataframe_2023[\"avg_price_brl\"].max()\n",
    "    print(f\"O carro mais barato em 2023 é: R$ {custo_minimo}\")\n",
    "    print(f\"O carro mais caro de 2023 é: R$ {custo_maximo}\")\n",
    "\n",
    "def tabela_carros_baratos() :\n",
    "    carros_baratos = dataframe_2023[(dataframe_2023[\"avg_price_brl\"] >= 5000) & (dataframe_2023[\"avg_price_brl\"] <= 7000)]\n",
    "    print(\"Carros que custam entre 5.000 e 7.000 reais em 2023:\")\n",
    "    print(carros_baratos[[\"brand\", \"model\", \"avg_price_brl\"]])\n",
    "\n",
    "minimo_e_maximo_preco_2023()\n",
    "tabela_carros_baratos()"
   ]
  },
  {
   "cell_type": "code",
   "execution_count": null,
   "id": "2f311908-48d0-4bd7-98b5-5ea633bf3a12",
   "metadata": {},
   "outputs": [],
   "source": []
  }
 ],
 "metadata": {
  "kernelspec": {
   "display_name": "Python 3 (ipykernel)",
   "language": "python",
   "name": "python3"
  },
  "language_info": {
   "codemirror_mode": {
    "name": "ipython",
    "version": 3
   },
   "file_extension": ".py",
   "mimetype": "text/x-python",
   "name": "python",
   "nbconvert_exporter": "python",
   "pygments_lexer": "ipython3",
   "version": "3.11.2"
  }
 },
 "nbformat": 4,
 "nbformat_minor": 5
}
