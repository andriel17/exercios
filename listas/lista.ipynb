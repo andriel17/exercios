{
 "cells": [
  {
   "cell_type": "markdown",
   "id": "6a35d823-15f0-4d09-8d40-07ebb687a240",
   "metadata": {},
   "source": [
    "# exercios de lista\n",
    "#### Andriel"
   ]
  },
  {
   "cell_type": "code",
   "execution_count": 2,
   "id": "fff6022d-e514-4f67-9ba4-0c46ca728395",
   "metadata": {},
   "outputs": [
    {
     "name": "stdout",
     "output_type": "stream",
     "text": [
      "[15, 14, 13, 12, 11, 10, 9, 8, 7, 6, 5, 4, 3, 2, 1, 0]\n"
     ]
    }
   ],
   "source": [
    "lista = [0,1,2,3,4,5,6,7,8,9,10,11,12,13,14,15]\n",
    "print (lista [::-1])\n"
   ]
  },
  {
   "cell_type": "code",
   "execution_count": 4,
   "id": "8275faf6-0b95-4cca-8ac3-b9f2ea55bc71",
   "metadata": {},
   "outputs": [
    {
     "name": "stdout",
     "output_type": "stream",
     "text": [
      "[1, 2, 3, 4, 5, 6, 7, 8]\n"
     ]
    }
   ],
   "source": [
    "lista = [0,1,2,3,4,5,6,7,8,9,10,11,12,13,14,15] \n",
    "print (lista [1:9])"
   ]
  },
  {
   "cell_type": "code",
   "execution_count": 5,
   "id": "347cb33d-16c0-452c-b093-4a421e25ba37",
   "metadata": {},
   "outputs": [
    {
     "name": "stdout",
     "output_type": "stream",
     "text": [
      "[1, 3, 5, 7, 9, 11, 13, 15]\n"
     ]
    }
   ],
   "source": [
    "lista = [0,1,2,3,4,5,6,7,8,9,10,11,12,13,14,15]\n",
    "print (lista [1::2])"
   ]
  },
  {
   "cell_type": "markdown",
   "id": "51aff434-f187-4f08-aea7-9c80a4b10f34",
   "metadata": {},
   "source": []
  },
  {
   "cell_type": "code",
   "execution_count": null,
   "id": "98af98cf-944e-44b3-91f3-79faf96f79fb",
   "metadata": {},
   "outputs": [],
   "source": []
  }
 ],
 "metadata": {
  "kernelspec": {
   "display_name": "Python 3 (ipykernel)",
   "language": "python",
   "name": "python3"
  },
  "language_info": {
   "codemirror_mode": {
    "name": "ipython",
    "version": 3
   },
   "file_extension": ".py",
   "mimetype": "text/x-python",
   "name": "python",
   "nbconvert_exporter": "python",
   "pygments_lexer": "ipython3",
   "version": "3.11.2"
  }
 },
 "nbformat": 4,
 "nbformat_minor": 5
}
